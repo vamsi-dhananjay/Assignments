{
 "cells": [
  {
   "cell_type": "markdown",
   "id": "2f7107c5",
   "metadata": {},
   "source": [
    "1.\tCreate a python program to find duplicate files by content. <br>\n",
    "User will input path and it will scan all directories & sub-directories to find all duplicates files. <br>\n",
    "Delete the found duplicate file. <br>\n",
    "[Hint: use hashlib]\n"
   ]
  },
  {
   "cell_type": "code",
   "execution_count": 46,
   "id": "b91387e7",
   "metadata": {},
   "outputs": [],
   "source": [
    "import os\n",
    "import hashlib"
   ]
  },
  {
   "cell_type": "code",
   "execution_count": 47,
   "id": "7acc9c58",
   "metadata": {},
   "outputs": [
    {
     "name": "stdout",
     "output_type": "stream",
     "text": [
      "Enter path of the first file: C:\\Training Material\n"
     ]
    }
   ],
   "source": [
    "path = input(\"Enter path of the first file: \")\n",
    "dirList = os.listdir(path)"
   ]
  },
  {
   "cell_type": "code",
   "execution_count": 48,
   "id": "980b0b5d",
   "metadata": {},
   "outputs": [],
   "source": [
    "hashList = []\n",
    "duplicate = []\n",
    "pathDirDict = {path : dirList}"
   ]
  },
  {
   "cell_type": "code",
   "execution_count": 49,
   "id": "b3a72625",
   "metadata": {},
   "outputs": [],
   "source": [
    "for i in dirList:\n",
    "    if '.' not in i:\n",
    "        pathDirDict[path + '\\\\' + i] = os.listdir(path + '\\\\' + i)"
   ]
  },
  {
   "cell_type": "code",
   "execution_count": 50,
   "id": "d39a2d51",
   "metadata": {},
   "outputs": [
    {
     "data": {
      "text/plain": [
       "True"
      ]
     },
     "execution_count": 50,
     "metadata": {},
     "output_type": "execute_result"
    }
   ],
   "source": [
    "'file1.txt' in pathDirDict['C:\\\\Training Material']"
   ]
  },
  {
   "cell_type": "code",
   "execution_count": 51,
   "id": "48296cc8",
   "metadata": {},
   "outputs": [
    {
     "data": {
      "text/plain": [
       "['27feb Python TEK - Functions _ Misc..ipynb',\n",
       " '28feb Python - Error & Exception Handling.ipynb',\n",
       " '28feb Python TEK - OOP & File Handling.ipynb',\n",
       " '2March Pandas TEK.ipynb',\n",
       " '2March Python TEK - File Handling & Errors Execptions.ipynb',\n",
       " '2_March_assignment_II.docx',\n",
       " '3 March SQL-TEK.docx.pdf',\n",
       " 'Automobile_price_data__Raw_.csv',\n",
       " 'Day Wise Plan - Data Engineering.xlsx',\n",
       " 'File Handling.pdf',\n",
       " 'file1.txt',\n",
       " 'file2.txt',\n",
       " 'file3.txt',\n",
       " 'New folder',\n",
       " 'OOPs Concepts with Python.pdf',\n",
       " 'Python Programming.pdf',\n",
       " 'Python TEK I .ipynb',\n",
       " 'Python TEK II.ipynb',\n",
       " 'Question Given.docx',\n",
       " 'Tek test.ipynb']"
      ]
     },
     "execution_count": 51,
     "metadata": {},
     "output_type": "execute_result"
    }
   ],
   "source": [
    "pathDirDict['C:\\\\Training Material']"
   ]
  },
  {
   "cell_type": "code",
   "execution_count": 52,
   "id": "8b34f367",
   "metadata": {},
   "outputs": [],
   "source": [
    "for i in pathDirDict:\n",
    "    for j in pathDirDict[i]:\n",
    "        if '.txt' in j:\n",
    "            fileObj = open(i + '\\\\' + j)\n",
    "            str1 = fileObj.read().encode()\n",
    "            hash1 = hashlib.sha256(str1)\n",
    "            if hash1.hexdigest() in hashList:\n",
    "                duplicate.append(i + '\\\\' + j)\n",
    "            else:\n",
    "                hashList.append(hash1.hexdigest())\n",
    "            fileObj.close()"
   ]
  },
  {
   "cell_type": "code",
   "execution_count": 53,
   "id": "9d3ba565",
   "metadata": {},
   "outputs": [
    {
     "name": "stdout",
     "output_type": "stream",
     "text": [
      "None\n",
      "None\n"
     ]
    }
   ],
   "source": [
    "for path in duplicate:\n",
    "    print(os.remove(path, dir_fd=None))"
   ]
  },
  {
   "cell_type": "markdown",
   "id": "f0b6d7fd",
   "metadata": {},
   "source": [
    "2.\tGenerate random Password with exact length = 6, with minimum 1 uppercase, 2 lowercase, 2 digits, and remaining special characters. \n",
    "    Using these packages [random, strings]\n"
   ]
  },
  {
   "cell_type": "code",
   "execution_count": 16,
   "id": "3eea50c3",
   "metadata": {},
   "outputs": [
    {
     "name": "stdout",
     "output_type": "stream",
     "text": [
      "2%Kng3\n"
     ]
    }
   ],
   "source": [
    "import random\n",
    "import string\n",
    "\n",
    "def generate_password():\n",
    "    char_list = []\n",
    "    char_list.append(random.choice(string.ascii_uppercase))\n",
    "    for i in range(2):\n",
    "        char_list.append(random.choice(string.ascii_lowercase))\n",
    "    for i in range(2):\n",
    "        char_list.append(random.choice(string.digits))\n",
    "    char_list.append(random.choice(string.punctuation))\n",
    "\n",
    "    random.shuffle(char_list)\n",
    "\n",
    "    empty = \"\"\n",
    "    password = empty.join(char_list)\n",
    "    \n",
    "    return password\n",
    "\n",
    "print(generate_password())"
   ]
  },
  {
   "cell_type": "markdown",
   "id": "ddc785aa",
   "metadata": {},
   "source": [
    "3. Create 2D array and update the same 2D array provided that every prime number position should be replaced by cube of the positioned number."
   ]
  },
  {
   "cell_type": "code",
   "execution_count": 18,
   "id": "cac55e4d",
   "metadata": {},
   "outputs": [
    {
     "name": "stdout",
     "output_type": "stream",
     "text": [
      "Enter the number of rows: 5\n",
      "Enter the number of columns: 5\n",
      "[[ 0  1  2  3  4]\n",
      " [ 5  6  7  8  9]\n",
      " [10 11 12 13 14]\n",
      " [15 16 17 18 19]\n",
      " [20 21 22 23 24]]\n"
     ]
    }
   ],
   "source": [
    "import numpy as np\n",
    "\n",
    "rows = int(input(\"Enter the number of rows: \"))\n",
    "cols = int(input(\"Enter the number of columns: \"))\n",
    "size = rows * cols\n",
    "\n",
    "array = np.arange(size).reshape(rows, cols)\n",
    "print(array)"
   ]
  },
  {
   "cell_type": "code",
   "execution_count": 19,
   "id": "7a6da1a9",
   "metadata": {},
   "outputs": [
    {
     "name": "stdout",
     "output_type": "stream",
     "text": [
      "[2, 3, 5, 7, 11, 13, 17, 19, 23]\n"
     ]
    }
   ],
   "source": [
    "n = size\n",
    "prime_list = [2]\n",
    "for i in range(3, n):\n",
    "    if i%2 != 0:\n",
    "        flag = True\n",
    "        for j in range(3, int(i/2)):\n",
    "            \n",
    "            if i%j == 0:\n",
    "                flag = False\n",
    "                break\n",
    "        if flag == True:\n",
    "            prime_list.append(i)\n",
    "print(prime_list)"
   ]
  },
  {
   "cell_type": "code",
   "execution_count": 20,
   "id": "2258d28c",
   "metadata": {},
   "outputs": [
    {
     "name": "stdout",
     "output_type": "stream",
     "text": [
      "[[    0     1     8    27     4]\n",
      " [  125     6   343     8     9]\n",
      " [   10  1331    12  2197    14]\n",
      " [   15    16  4913    18  6859]\n",
      " [   20    21    22 12167    24]]\n"
     ]
    }
   ],
   "source": [
    "for i in prime_list:\n",
    "    row = i // cols\n",
    "    col = i % cols\n",
    "    \n",
    "    array[row][col] = i ** 3\n",
    "print(array)"
   ]
  },
  {
   "cell_type": "markdown",
   "id": "90359ef9",
   "metadata": {},
   "source": [
    "4. Python program to get the sum of every cubed value and its previous integer."
   ]
  },
  {
   "cell_type": "code",
   "execution_count": 21,
   "id": "c0b00959",
   "metadata": {},
   "outputs": [
    {
     "name": "stdout",
     "output_type": "stream",
     "text": [
      "[[    0     1     9    35     4]\n",
      " [  129     6   349     8     9]\n",
      " [   10  1341    12  2209    14]\n",
      " [   15    16  4929    18  6877]\n",
      " [   20    21    22 12189    24]]\n"
     ]
    }
   ],
   "source": [
    "import copy as cp\n",
    "array_copy = cp.copy(array)\n",
    "for i in prime_list:\n",
    "    row = i // cols\n",
    "    col = i % cols\n",
    "    if col == 0: # If index is the first position in any row\n",
    "        prev_row = row - 1 # go back to previous row\n",
    "        prev_col = cols - 1 # to the last column\n",
    "        array[row][col] += array_copy[prev_row][prev_col]\n",
    "    else:\n",
    "        prev_row = row\n",
    "        prev_col = col - 1\n",
    "        array[row][col] += array_copy[prev_row][prev_col]\n",
    "print(array)"
   ]
  },
  {
   "cell_type": "markdown",
   "id": "717888bf",
   "metadata": {},
   "source": [
    "5.\tGiven two arrays, find their intersection. Examples:\n",
    "\n",
    "    Input:  arr1[] = [1, 3, 4, 5, 7], arr2[] = [2, 3, 5, 6]\n"
   ]
  },
  {
   "cell_type": "code",
   "execution_count": 6,
   "id": "04e52cab",
   "metadata": {},
   "outputs": [
    {
     "data": {
      "text/plain": [
       "list[{3, 5}]"
      ]
     },
     "execution_count": 6,
     "metadata": {},
     "output_type": "execute_result"
    }
   ],
   "source": [
    "arr1 = [1, 3, 4, 5, 7]\n",
    "arr2 = [2, 3, 5, 6]\n",
    "list[set(arr1) & set(arr2)]"
   ]
  },
  {
   "cell_type": "code",
   "execution_count": 7,
   "id": "47f55781",
   "metadata": {},
   "outputs": [
    {
     "data": {
      "text/plain": [
       "[3, 5]"
      ]
     },
     "execution_count": 7,
     "metadata": {},
     "output_type": "execute_result"
    }
   ],
   "source": [
    "[x for x in arr1 if x in arr2]"
   ]
  },
  {
   "cell_type": "code",
   "execution_count": 8,
   "id": "b4643a17",
   "metadata": {},
   "outputs": [
    {
     "data": {
      "text/plain": [
       "{3, 5}"
      ]
     },
     "execution_count": 8,
     "metadata": {},
     "output_type": "execute_result"
    }
   ],
   "source": [
    "set(arr1).intersection(arr2)"
   ]
  },
  {
   "cell_type": "code",
   "execution_count": 11,
   "id": "c9a1d850",
   "metadata": {},
   "outputs": [
    {
     "data": {
      "text/plain": [
       "[3, 5]"
      ]
     },
     "execution_count": 11,
     "metadata": {},
     "output_type": "execute_result"
    }
   ],
   "source": [
    "list(filter(lambda x : x in arr1, arr2))"
   ]
  },
  {
   "cell_type": "code",
   "execution_count": 13,
   "id": "1bc7cd2f",
   "metadata": {},
   "outputs": [
    {
     "name": "stdout",
     "output_type": "stream",
     "text": [
      "[3, 5]\n"
     ]
    }
   ],
   "source": [
    "def intersection(lst1, lst2):\n",
    "    final_lst = []\n",
    "    for i in lst1:\n",
    "        if i in lst2:\n",
    "            final_lst.append(i)\n",
    "    return final_lst\n",
    "\n",
    "print(intersection(arr1, arr2))"
   ]
  },
  {
   "cell_type": "markdown",
   "id": "b3b7bdce",
   "metadata": {},
   "source": [
    "6.\tCreate a 7 x 7  2D array having only multiples of 7. And return the last element of the same."
   ]
  },
  {
   "cell_type": "code",
   "execution_count": 29,
   "id": "6ce6cf6e",
   "metadata": {},
   "outputs": [
    {
     "name": "stdout",
     "output_type": "stream",
     "text": [
      "[[  7  14  21  28  35  42  49]\n",
      " [ 56  63  70  77  84  91  98]\n",
      " [105 112 119 126 133 140 147]\n",
      " [154 161 168 175 182 189 196]\n",
      " [203 210 217 224 231 238 245]\n",
      " [252 259 266 273 280 287 294]\n",
      " [301 308 315 322 329 336 343]]\n",
      "\n",
      "Last element is 343\n"
     ]
    }
   ],
   "source": [
    "seven_array = np.zeros((7,7), dtype = 'int')\n",
    "count = 1\n",
    "for i in range(7):\n",
    "    for j in range(7):\n",
    "        seven_array[i][j] = 7 * count\n",
    "        count += 1\n",
    "print(seven_array)\n",
    "print(\"\\nLast element is\", seven_array[6, 6])"
   ]
  },
  {
   "cell_type": "markdown",
   "id": "9b5dcf71",
   "metadata": {},
   "source": [
    "7.\tChecker Board Patten using Numpy"
   ]
  },
  {
   "cell_type": "markdown",
   "id": "cb8084ef",
   "metadata": {},
   "source": [
    "1 0 1 0 1 0 1 <br>\n",
    "0 1 0 1 0 1 0 <br>\n",
    "1 0 1 0 1 0 1 <br>\n",
    "0 1 0 1 0 1 0 <br>\n",
    "1 0 1 0 1 0 1"
   ]
  },
  {
   "cell_type": "code",
   "execution_count": 33,
   "id": "7d8eba6e",
   "metadata": {},
   "outputs": [
    {
     "name": "stdout",
     "output_type": "stream",
     "text": [
      "Enter number of rows: 5\n",
      "Enter number of columns: 7\n",
      "[[1 0 1 0 1 0 1]\n",
      " [0 1 0 1 0 1 0]\n",
      " [1 0 1 0 1 0 1]\n",
      " [0 1 0 1 0 1 0]\n",
      " [1 0 1 0 1 0 1]]\n"
     ]
    }
   ],
   "source": [
    "cb_rows = int(input(\"Enter number of rows: \"))\n",
    "cb_columns = int(input(\"Enter number of columns: \"))\n",
    "board = np.zeros((cb_rows, cb_columns), dtype = 'int')\n",
    "for i in range(cb_rows):\n",
    "    for j in range(cb_columns):\n",
    "        if (i + j) % 2 == 0:\n",
    "            board[i][j] = 1\n",
    "print(board)"
   ]
  },
  {
   "cell_type": "markdown",
   "id": "16920673",
   "metadata": {},
   "source": [
    "8.\tCreate the given Matrix"
   ]
  },
  {
   "cell_type": "markdown",
   "id": "3902d01d",
   "metadata": {},
   "source": [
    "A B C D <br>\n",
    "E F G H <br>\n",
    "I a K L <br>\n",
    "M N o P <br>\n",
    "Q R S T <br>\n",
    "U 0 W O"
   ]
  },
  {
   "cell_type": "markdown",
   "id": "74ca6757",
   "metadata": {},
   "source": [
    "Replace all the vowels by np.nan <br>\n",
    "A, E, I, O U  -- >  np.nan <br>\n",
    "Return the count of the missing values"
   ]
  },
  {
   "cell_type": "code",
   "execution_count": 37,
   "id": "583741b0",
   "metadata": {},
   "outputs": [
    {
     "name": "stdout",
     "output_type": "stream",
     "text": [
      "[['A' 'B' 'C' 'D']\n",
      " ['E' 'F' 'G' 'H']\n",
      " ['I' 'a' 'K' 'L']\n",
      " ['M' 'N' 'o' 'P']\n",
      " ['Q' 'R' 'S' 'T']\n",
      " ['U' '0' 'W' 'O']]\n",
      "\n",
      "[['nan' 'B' 'C' 'D']\n",
      " ['nan' 'F' 'G' 'H']\n",
      " ['nan' 'nan' 'K' 'L']\n",
      " ['M' 'N' 'nan' 'P']\n",
      " ['Q' 'R' 'S' 'T']\n",
      " ['nan' '0' 'W' 'nan']]\n",
      "\n",
      "Number of missing values are 7\n"
     ]
    }
   ],
   "source": [
    "custom_array = np.array([['A', 'B', 'C', 'D'], ['E', 'F', 'G', 'H'], \n",
    "                        ['I', 'a', 'K', 'L'], ['M', 'N', 'o', 'P'], \n",
    "                        ['Q', 'R', 'S', 'T'], ['U', 0, 'W', 'O'] ])\n",
    "print(custom_array)\n",
    "vowels = ['A', 'E', 'I', 'O', 'U', 'a', 'e', 'i', 'o', 'u']\n",
    "nan_count = 0\n",
    "for i in range(6):\n",
    "    for j in range(4):\n",
    "        if custom_array[i][j] in vowels:\n",
    "            custom_array[i][j] = np.nan\n",
    "            nan_count += 1\n",
    "print(\"\")\n",
    "print(custom_array)\n",
    "print(\"\\nNumber of missing values are\", nan_count)"
   ]
  }
 ],
 "metadata": {
  "kernelspec": {
   "display_name": "Python 3 (ipykernel)",
   "language": "python",
   "name": "python3"
  },
  "language_info": {
   "codemirror_mode": {
    "name": "ipython",
    "version": 3
   },
   "file_extension": ".py",
   "mimetype": "text/x-python",
   "name": "python",
   "nbconvert_exporter": "python",
   "pygments_lexer": "ipython3",
   "version": "3.9.13"
  }
 },
 "nbformat": 4,
 "nbformat_minor": 5
}
