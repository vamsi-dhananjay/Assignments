{
 "cells": [
  {
   "cell_type": "markdown",
   "id": "5f1fe116-e7cf-45e1-86a5-473445d9952f",
   "metadata": {},
   "source": [
    "### 1. Using keys and indexing, grab the 'hello' afrom the following dictionary"
   ]
  },
  {
   "cell_type": "code",
   "execution_count": 1,
   "id": "061e2dba-e128-4942-be35-b45c680d013c",
   "metadata": {},
   "outputs": [],
   "source": [
    "d = {'k1':[1,2,{'k2':['this is tricky',{'tough':[1,2,['hello']]}]}]}"
   ]
  },
  {
   "cell_type": "code",
   "execution_count": 7,
   "id": "a5d2150c",
   "metadata": {},
   "outputs": [
    {
     "data": {
      "text/plain": [
       "'hello'"
      ]
     },
     "execution_count": 7,
     "metadata": {},
     "output_type": "execute_result"
    }
   ],
   "source": [
    "d['k1'][2]['k2'][1]['tough'][2][0]"
   ]
  },
  {
   "cell_type": "markdown",
   "id": "689c01fb-3911-40be-8e0b-00a8eab4dd18",
   "metadata": {},
   "source": [
    "### 2. Write a Python function that takes a list and returns a new list with unique elements of the first list.\n",
    "**!!!! DO NOT USE list(set())**  \\\n",
    "    Sample List : [1,1,1,1,2,2,3,3,3,3,4,5]   \\\n",
    "    Unique List : [1, 2, 3, 4, 5]"
   ]
  },
  {
   "cell_type": "code",
   "execution_count": 8,
   "id": "b2b7a16f",
   "metadata": {},
   "outputs": [
    {
     "name": "stdout",
     "output_type": "stream",
     "text": [
      "[1, 2, 3, 4, 5]\n"
     ]
    }
   ],
   "source": [
    "def make_unique(sample):\n",
    "    unique = []\n",
    "    for i in sample:\n",
    "        if i in unique:\n",
    "            continue\n",
    "        else:\n",
    "            unique.append(i)\n",
    "    return unique\n",
    "\n",
    "list1 = [1, 2, 1, 2, 2, 3, 3, 4, 4, 4, 4, 5]\n",
    "print(make_unique(list1))"
   ]
  },
  {
   "cell_type": "markdown",
   "id": "cb41f026-decb-4b3c-9fb7-b27c2646fb04",
   "metadata": {},
   "source": [
    "### 3. Write a Python function that accepts a string and calculates the number of upper case letters and lower case letters.\n",
    "\n",
    "    Sample String : 'Hello Mr. Roshan, how are you this fine Tuesday?'\n",
    "    Expected Output : \n",
    "    No. of Upper case characters : 4\n",
    "    No. of Lower case Characters : 33"
   ]
  },
  {
   "cell_type": "code",
   "execution_count": 9,
   "id": "67715743",
   "metadata": {},
   "outputs": [
    {
     "name": "stdout",
     "output_type": "stream",
     "text": [
      "No. of Upper case characters: 4\n",
      "No. of Lower case characters: 33\n"
     ]
    }
   ],
   "source": [
    "def upper_lower(sample_str):\n",
    "    upper = \"ABCDEFGHIJKLMNOPQRSTUVWXYZ\"\n",
    "    lower = \"abcdefghijklmnopqrstuvwxyz\"\n",
    "    word_list = sample_str.split()\n",
    "    all_chars = \"\"\n",
    "    for i in word_list:\n",
    "        all_chars += i\n",
    "    upper_count = 0\n",
    "    lower_count = 0\n",
    "    for char in all_chars:\n",
    "        if char in upper:\n",
    "            upper_count += 1\n",
    "        if char in lower:\n",
    "            lower_count += 1\n",
    "    print(\"No. of Upper case characters:\", upper_count)\n",
    "    print(\"No. of Lower case characters:\", lower_count)\n",
    "\n",
    "str1 = \"Hello Mr. Roshan, how are you this fine Tuesday?\"\n",
    "upper_lower(str1)"
   ]
  },
  {
   "cell_type": "markdown",
   "id": "8a0e1caf-e446-40e5-9418-348d5a9394d2",
   "metadata": {},
   "source": [
    "### 4.Create & Read a file constitution.txt. Create a dictionary with an entry for each letter in the alphabet. The keys are letters and the values will be the counts of the number of times a letter has viewed. Go through each character in data, skipping characters that aren't letters. For every letter, increment the count stored in letter_counts for that letter. Create a bar chart for the letter frequencies."
   ]
  },
  {
   "cell_type": "code",
   "execution_count": 44,
   "id": "2fc0d934",
   "metadata": {},
   "outputs": [],
   "source": [
    "f = open(\"constitution.txt\", \"w\")"
   ]
  },
  {
   "cell_type": "code",
   "execution_count": 45,
   "id": "0478c21e",
   "metadata": {},
   "outputs": [
    {
     "data": {
      "text/plain": [
       "71"
      ]
     },
     "execution_count": 45,
     "metadata": {},
     "output_type": "execute_result"
    }
   ],
   "source": [
    "f.write(\"abcdabcdhefijklmoninepwisnxhbzusbirndjsawnfuqowbjfbvmslz,z,z,zi294bsi91\")"
   ]
  },
  {
   "cell_type": "code",
   "execution_count": 47,
   "id": "bcbba5ad",
   "metadata": {},
   "outputs": [],
   "source": [
    "f.close()"
   ]
  },
  {
   "cell_type": "code",
   "execution_count": 49,
   "id": "66e82837",
   "metadata": {},
   "outputs": [
    {
     "name": "stdout",
     "output_type": "stream",
     "text": [
      "abcdabcdhefijklmoninepwisnxhbzusbirndjsawnfuqowbjfbvmslz,z,z,zi294bsi91\n"
     ]
    }
   ],
   "source": [
    "f = open(\"constitution.txt\", \"r\")\n",
    "constitution = f.read()\n",
    "print(constitution)"
   ]
  },
  {
   "cell_type": "code",
   "execution_count": 51,
   "id": "0cb5258f",
   "metadata": {},
   "outputs": [
    {
     "name": "stdout",
     "output_type": "stream",
     "text": [
      "{'a': 3, 'b': 7, 'c': 2, 'd': 3, 'e': 2, 'f': 3, 'g': 0, 'h': 2, 'i': 6, 'j': 3, 'k': 1, 'l': 2, 'm': 2, 'n': 5, 'o': 2, 'p': 1, 'q': 1, 'r': 1, 's': 5, 't': 0, 'u': 2, 'v': 1, 'w': 3, 'x': 1, 'y': 0, 'z': 5}\n"
     ]
    }
   ],
   "source": [
    "alphabet_dict = {'a':0, 'b':0, 'c':0, 'd':0, 'e':0, 'f':0, 'g':0, 'h':0, 'i':0, 'j':0, 'k':0, 'l':0, 'm':0, \n",
    "                 'n':0, 'o':0, 'p':0, 'q':0, 'r':0, 's':0, 't':0, 'u':0, 'v':0, 'w':0, 'x':0, 'y':0, 'z':0,}\n",
    "\n",
    "alphabets = \"abcdefghijklmnopqrstuvwxyz\"\n",
    "\n",
    "for char in constitution:\n",
    "    if char in alphabets:\n",
    "        alphabet_dict[char] += 1\n",
    "\n",
    "print(alphabet_dict)"
   ]
  },
  {
   "cell_type": "markdown",
   "id": "d9efe72b-87cb-4430-8a82-05e5050f92bc",
   "metadata": {},
   "source": [
    "### 5. For this challenge,\n",
    "\n",
    "Create a bank account class that has two attributes:\n",
    "\n",
    "owner balance and two methods:\n",
    "\n",
    "deposit withdraw As an added requirement, withdrawals may not exceed the available balance.\n",
    "\n",
    "Instantiate your class, make several deposits and withdrawals, and test to make sure the account can't be overdrawn."
   ]
  },
  {
   "cell_type": "code",
   "execution_count": 36,
   "id": "2cd99dbb",
   "metadata": {},
   "outputs": [],
   "source": [
    "class bank_account:\n",
    "    def __init__(self, owner, balance):\n",
    "        self.owner = owner\n",
    "        self.balance = balance\n",
    "        print(\"Dear\", owner, \"You're balance is\", balance)\n",
    "    def deposit(self, x):\n",
    "        print(\"Balance before Deposit:\", self.balance)\n",
    "        self.balance += x\n",
    "        print(\"Depositing\", x, \"...\")\n",
    "        print(\"Balance after Deposit:\", self.balance)\n",
    "        print(\"\")\n",
    "    def withdraw(self, y):\n",
    "        if y > self.balance:\n",
    "            print(\"Withdrawal amount is more than balance available. Please enter a different amount\")\n",
    "            print(\"\")\n",
    "        else:\n",
    "            print(\"Balance before withdrawal:\", self.balance)\n",
    "            self.balance -= y\n",
    "            print(\"Withdrawing\", y, \"...\")\n",
    "            print(\"Balance after withdrawal:\", self.balance)\n",
    "            print(\"\")"
   ]
  },
  {
   "cell_type": "code",
   "execution_count": 37,
   "id": "d9d92d65",
   "metadata": {},
   "outputs": [
    {
     "name": "stdout",
     "output_type": "stream",
     "text": [
      "Dear Arjun You're balance is 5000\n"
     ]
    }
   ],
   "source": [
    "acc = bank_account('Arjun', 5000)"
   ]
  },
  {
   "cell_type": "code",
   "execution_count": 38,
   "id": "04c5fea4",
   "metadata": {},
   "outputs": [
    {
     "name": "stdout",
     "output_type": "stream",
     "text": [
      "Balance before Deposit: 5000\n",
      "Depositing 1000 ...\n",
      "Balance after Deposit: 6000\n",
      "\n",
      "Withdrawal amount is more than balance available. Please enter a different amount\n",
      "\n",
      "Balance before withdrawal: 6000\n",
      "Withdrawing 3000 ...\n",
      "Balance after withdrawal: 3000\n",
      "\n",
      "Balance before Deposit: 3000\n",
      "Depositing 5000 ...\n",
      "Balance after Deposit: 8000\n",
      "\n"
     ]
    }
   ],
   "source": [
    "acc.deposit(1000)\n",
    "acc.withdraw(10000)\n",
    "acc.withdraw(3000)\n",
    "acc.deposit(5000)"
   ]
  },
  {
   "cell_type": "markdown",
   "id": "9d59550f-c8a5-4149-ad3f-f275a39c8086",
   "metadata": {},
   "source": [
    "### 6. Playing Cards\n",
    "4 suits (Hearts, Diamonds, Spades and Clubs)\n",
    "13 ranks (2 through 10, then the face cards Jack, Queen, King and Ace)\n",
    "\n",
    "    -- Total 52 Cards\n",
    "\n",
    "### The Game\n",
    " Jacks, Queens and Kings all have a rank of 10. Aces have a rank of either 11 or 1 as needed to reach 21 without busting. As a starting point in your program, you may want to assign variables to store a list of suits, ranks, and then use a dictionary to map ranks to values.\n",
    " 1. Create a deck of 52 cards\n",
    " 2. Shuffle the deck.\n",
    " 3. Display the winner if somebody's getting an Ace."
   ]
  },
  {
   "cell_type": "code",
   "execution_count": 41,
   "id": "d967b509",
   "metadata": {},
   "outputs": [
    {
     "name": "stdout",
     "output_type": "stream",
     "text": [
      "King\n",
      "5\n",
      "2\n",
      "8\n",
      "9\n",
      "6\n",
      "10\n",
      "2\n",
      "King\n",
      "7\n",
      "7\n",
      "10\n",
      "3\n",
      "4\n",
      "Queen\n",
      "2\n",
      "6\n",
      "7\n",
      "Ace\n",
      "Winner!\n"
     ]
    }
   ],
   "source": [
    "deck = ['Ace', 'Ace', 'Ace', 'Ace', 2, 2, 2, 2, 3, 3, 3, 3, 4, 4, 4, 4, 5, 5, 5, 5, 6, 6, 6, 6, 7, 7, 7, 7, 8, 8, 8, 8,\n",
    "        9, 9, 9, 9, 10, 10, 10, 10, 'Jack', 'Jack', 'Jack', 'Jack', 'Queen', 'Queen', 'Queen', 'Queen', 'King', 'King', 'King', 'King']\n",
    "\n",
    "random.shuffle(deck)\n",
    "\n",
    "flag = True\n",
    "\n",
    "while flag:\n",
    "    card = random.choice(deck)\n",
    "    print(card)\n",
    "    deck.remove(card)\n",
    "    if card == 'Ace':\n",
    "        print(\"Winner!\")\n",
    "        break"
   ]
  },
  {
   "cell_type": "markdown",
   "id": "1d243239-dc35-4280-9e41-d75ea100b58d",
   "metadata": {},
   "source": [
    "### 7. Generate Password: 17 characters , minimum 1 Uppercase, 1 lowercase, 1 digits and 2 minimun special characters"
   ]
  },
  {
   "cell_type": "code",
   "execution_count": 14,
   "id": "19e164ac",
   "metadata": {},
   "outputs": [
    {
     "name": "stdout",
     "output_type": "stream",
     "text": [
      "H\\0<Ob$<v,i3%MYK#\n"
     ]
    }
   ],
   "source": [
    "import random\n",
    "import string\n",
    "\n",
    "digits = string.digits\n",
    "lower = string.ascii_lowercase\n",
    "upper = string.ascii_uppercase\n",
    "special = string.punctuation\n",
    "all = digits + lower + upper + special\n",
    "\n",
    "pass_chars = []\n",
    "\n",
    "pass_chars.append(random.choice(upper))\n",
    "pass_chars.append(random.choice(lower))\n",
    "pass_chars.append(random.choice(digits))\n",
    "pass_chars.append(random.choice(special))\n",
    "pass_chars.append(random.choice(special))\n",
    "for i in range(12):\n",
    "    pass_chars.append(random.choice(all))\n",
    "\n",
    "random.shuffle(pass_chars)\n",
    "\n",
    "empty = \"\"\n",
    "final_pass = empty.join(pass_chars)\n",
    "print(final_pass)"
   ]
  },
  {
   "cell_type": "markdown",
   "id": "5090a46a-a0f2-45e5-b058-f200ab845335",
   "metadata": {},
   "source": [
    "### 8. you are given a list which is [3, 5, 7, 3, 5, 7, 3, 545, 34, 235, 234, 6]. You have to sort it such that the seventh element is greatest of all, second element is greater than last element and second last element is not greater than sum of 8 and sixth element"
   ]
  },
  {
   "cell_type": "code",
   "execution_count": 60,
   "id": "5a6866b5-fbff-4206-be46-a51961090c8b",
   "metadata": {},
   "outputs": [
    {
     "name": "stdout",
     "output_type": "stream",
     "text": [
      "[234, 6, 7, 3, 5, 7, 545, 3, 34, 235, 3, 5]\n",
      "All the conditions are satisfied!\n"
     ]
    }
   ],
   "source": [
    "nums = [3, 5, 7, 3, 5, 7, 3, 545, 34, 235, 234, 6]\n",
    "\n",
    "maximum = max(nums)\n",
    "max_index = nums.index(maximum)\n",
    "nums[6], nums[max_index] = nums[max_index], nums[6]\n",
    "\n",
    "last = len(nums) - 1\n",
    "if nums[1] < nums[last]:\n",
    "    nums[1], nums[last] = nums[last], nums[1]\n",
    "\n",
    "sec_last = last - 1\n",
    "minimum = min(nums)\n",
    "min_index = nums.index(minimum)\n",
    "nums[sec_last], nums[min_index] = nums[min_index], nums[sec_last]\n",
    "\n",
    "print(nums)\n",
    "print(\"All the conditions are satisfied!\")"
   ]
  }
 ],
 "metadata": {
  "kernelspec": {
   "display_name": "Python 3 (ipykernel)",
   "language": "python",
   "name": "python3"
  },
  "language_info": {
   "codemirror_mode": {
    "name": "ipython",
    "version": 3
   },
   "file_extension": ".py",
   "mimetype": "text/x-python",
   "name": "python",
   "nbconvert_exporter": "python",
   "pygments_lexer": "ipython3",
   "version": "3.9.13"
  }
 },
 "nbformat": 4,
 "nbformat_minor": 5
}
